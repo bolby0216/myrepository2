{
  "nbformat": 4,
  "nbformat_minor": 0,
  "metadata": {
    "colab": {
      "name": "MLP.ipynb",
      "provenance": [],
      "collapsed_sections": [],
      "authorship_tag": "ABX9TyPrS8CaLPpjyWldyxxw1krI",
      "include_colab_link": true
    },
    "kernelspec": {
      "name": "python3",
      "display_name": "Python 3"
    },
    "accelerator": "GPU"
  },
  "cells": [
    {
      "cell_type": "markdown",
      "metadata": {
        "id": "view-in-github",
        "colab_type": "text"
      },
      "source": [
        "<a href=\"https://colab.research.google.com/github/bolby0216/myrepository2/blob/master/MLP.ipynb\" target=\"_parent\"><img src=\"https://colab.research.google.com/assets/colab-badge.svg\" alt=\"Open In Colab\"/></a>"
      ]
    },
    {
      "cell_type": "code",
      "metadata": {
        "id": "5k-BR9ppu42o",
        "colab_type": "code",
        "colab": {}
      },
      "source": [
        "#tensorflow 1.13.1 버전을 설치합니다.\n",
        "!pip install tensorflow-gpu==1.13.1"
      ],
      "execution_count": 0,
      "outputs": []
    },
    {
      "cell_type": "code",
      "metadata": {
        "id": "xFjaqk6hvF2j",
        "colab_type": "code",
        "colab": {}
      },
      "source": [
        "#그에 맞는 CUDA 버전도 설치해줍니다.\n",
        "!apt-get --purge remove \"*cublas*\" \"cuda*\"\n",
        "!reboot\n",
        "!wget https://developer.download.nvidia.com/compute/cuda/repos/ubuntu1804/x86_64/cuda-repo-ubuntu1804_10.0.130-1_amd64.deb\n",
        "!dpkg -i cuda-repo-ubuntu1804_10.0.130-1_amd64.deb\n",
        "!sudo apt-key adv --fetch-keys https://developer.download.nvidia.com/compute/cuda/repos/ubuntu1804/x86_64/7fa2af80.pub\n",
        "!apt install cuda-10-0\n",
        "!reboot"
      ],
      "execution_count": 0,
      "outputs": []
    },
    {
      "cell_type": "code",
      "metadata": {
        "id": "lcAsUxHAuaAc",
        "colab_type": "code",
        "colab": {}
      },
      "source": [
        "!pip install ipython-autotime\n",
        " \n",
        "%load_ext autotime"
      ],
      "execution_count": 0,
      "outputs": []
    },
    {
      "cell_type": "code",
      "metadata": {
        "id": "zF4GC6rwjfS1",
        "colab_type": "code",
        "outputId": "12f77851-17b0-4fa8-b020-b603b4db6d44",
        "colab": {
          "base_uri": "https://localhost:8080/",
          "height": 459
        }
      },
      "source": [
        "import tensorflow as tf\n",
        "import numpy as np\n",
        "from IPython.display import Image\n",
        "\n",
        "#MNIST 데이터 불러오기\n",
        "(x_train, y_train), (x_test, y_test) = tf.keras.datasets.mnist.load_data()\n",
        "\n",
        "print(x_train.shape)\n",
        "print(x_test.shape)\n",
        "\n",
        "dddd = x_test\n",
        "\n",
        "#test set에서 validation set을 10000개 만큼 분리해줍니다. 이는 validation accuracy가 진전되지 않을때 overfitting을 막기위해 사용됩니다.\n",
        "x_val  = x_train[50000:60000]\n",
        "x_train = x_train[0:50000]\n",
        "y_val  = y_train[50000:60000]\n",
        "y_train = y_train[0:50000]\n",
        "\n",
        "print(\"train data has \" + str(x_train.shape[0]) + \" samples\")\n",
        "print(\"every train data is \" + str(x_train.shape[1]) \n",
        "      + \" * \" + str(x_train.shape[2]) + \" image\")\n",
        "\n",
        "print(\"validation data has \" + str(x_val.shape[0]) + \" samples\")\n",
        "print(\"every train data is \" + str(x_val.shape[1]) \n",
        "      + \" * \" + str(x_train.shape[2]) + \" image\")\n",
        "\n",
        "print(\"test data has \" + str(x_test.shape[0]) + \" samples\")\n",
        "print(\"every test data is \" + str(x_test.shape[1]) \n",
        "      + \" * \" + str(x_test.shape[2]) + \" image\")\n",
        "\n",
        "#flattening을 해줍니다\n",
        "x_train = x_train.reshape(50000, 784)\n",
        "x_val = x_val.reshape(10000, 784)\n",
        "x_test = x_test.reshape(10000, 784)\n",
        "\n",
        "print(x_train.shape)\n",
        "print(x_test.shape)\n",
        "\n",
        "#정규화를 해줍니다\n",
        "x_train = x_train.astype('float32')\n",
        "x_val = x_val.astype('float32')\n",
        "x_test = x_test.astype('float32')\n",
        "\n",
        "gray_scale = 255\n",
        "x_train /= gray_scale\n",
        "x_val /= gray_scale\n",
        "x_test /= gray_scale\n",
        "\n",
        "#one hot encoding\n",
        "num_classes = 10\n",
        "y_train = tf.keras.utils.to_categorical(y_train, num_classes)\n",
        "y_val = tf.keras.utils.to_categorical(y_val, num_classes)\n",
        "y_test = tf.keras.utils.to_categorical(y_test, num_classes)"
      ],
      "execution_count": 2,
      "outputs": [
        {
          "output_type": "stream",
          "text": [
            "/usr/local/lib/python3.6/dist-packages/tensorflow/python/framework/dtypes.py:526: FutureWarning: Passing (type, 1) or '1type' as a synonym of type is deprecated; in a future version of numpy, it will be understood as (type, (1,)) / '(1,)type'.\n",
            "  _np_qint8 = np.dtype([(\"qint8\", np.int8, 1)])\n",
            "/usr/local/lib/python3.6/dist-packages/tensorflow/python/framework/dtypes.py:527: FutureWarning: Passing (type, 1) or '1type' as a synonym of type is deprecated; in a future version of numpy, it will be understood as (type, (1,)) / '(1,)type'.\n",
            "  _np_quint8 = np.dtype([(\"quint8\", np.uint8, 1)])\n",
            "/usr/local/lib/python3.6/dist-packages/tensorflow/python/framework/dtypes.py:528: FutureWarning: Passing (type, 1) or '1type' as a synonym of type is deprecated; in a future version of numpy, it will be understood as (type, (1,)) / '(1,)type'.\n",
            "  _np_qint16 = np.dtype([(\"qint16\", np.int16, 1)])\n",
            "/usr/local/lib/python3.6/dist-packages/tensorflow/python/framework/dtypes.py:529: FutureWarning: Passing (type, 1) or '1type' as a synonym of type is deprecated; in a future version of numpy, it will be understood as (type, (1,)) / '(1,)type'.\n",
            "  _np_quint16 = np.dtype([(\"quint16\", np.uint16, 1)])\n",
            "/usr/local/lib/python3.6/dist-packages/tensorflow/python/framework/dtypes.py:530: FutureWarning: Passing (type, 1) or '1type' as a synonym of type is deprecated; in a future version of numpy, it will be understood as (type, (1,)) / '(1,)type'.\n",
            "  _np_qint32 = np.dtype([(\"qint32\", np.int32, 1)])\n",
            "/usr/local/lib/python3.6/dist-packages/tensorflow/python/framework/dtypes.py:535: FutureWarning: Passing (type, 1) or '1type' as a synonym of type is deprecated; in a future version of numpy, it will be understood as (type, (1,)) / '(1,)type'.\n",
            "  np_resource = np.dtype([(\"resource\", np.ubyte, 1)])\n"
          ],
          "name": "stderr"
        },
        {
          "output_type": "stream",
          "text": [
            "Downloading data from https://storage.googleapis.com/tensorflow/tf-keras-datasets/mnist.npz\n",
            "11493376/11490434 [==============================] - 0s 0us/step\n",
            "(60000, 28, 28)\n",
            "(10000, 28, 28)\n",
            "train data has 50000 samples\n",
            "every train data is 28 * 28 image\n",
            "validation data has 10000 samples\n",
            "every train data is 28 * 28 image\n",
            "test data has 10000 samples\n",
            "every test data is 28 * 28 image\n",
            "(50000, 784)\n",
            "(10000, 784)\n"
          ],
          "name": "stdout"
        }
      ]
    },
    {
      "cell_type": "code",
      "metadata": {
        "id": "wxjpxh6kuzJl",
        "colab_type": "code",
        "colab": {}
      },
      "source": [
        "x = tf.placeholder(tf.float32, [None, 784])\n",
        "y = tf.placeholder(tf.float32, [None, 10])"
      ],
      "execution_count": 0,
      "outputs": []
    },
    {
      "cell_type": "code",
      "metadata": {
        "id": "C5lP-lQ7wV3g",
        "colab_type": "code",
        "colab": {}
      },
      "source": [
        "def mlp(x):\n",
        "    keep_prob = tf.placeholder(tf.float32)\n",
        "    # hidden layer1\n",
        "    w1 = tf.Variable(tf.random_uniform([784,256]))\n",
        "    b1 = tf.Variable(tf.zeros([256]))\n",
        "    h1 = tf.nn.relu(tf.matmul(x, w1) + b1)\n",
        "    h1 = tf.nn.dropout(h1, keep_prob=0.7)\n",
        "    # hidden layer2\n",
        "    w2 = tf.Variable(tf.random_uniform([256,128]))\n",
        "    b2 = tf.Variable(tf.zeros([128]))\n",
        "    h2 = tf.nn.relu(tf.matmul(h1, w2) + b2)\n",
        "    h2 = tf.nn.dropout(h2, keep_prob=0.7)\n",
        "    # output layer\n",
        "    w3 = tf.Variable(tf.random_uniform([128,10]))\n",
        "    b3 = tf.Variable(tf.zeros([10]))\n",
        "    logits= tf.matmul(h2, w3) + b3\n",
        "    \n",
        "    return logits"
      ],
      "execution_count": 0,
      "outputs": []
    },
    {
      "cell_type": "code",
      "metadata": {
        "id": "mIvyxspjwbqh",
        "colab_type": "code",
        "colab": {}
      },
      "source": [
        "logits = mlp(x)\n",
        "\n",
        "loss_op = tf.reduce_mean(tf.nn.softmax_cross_entropy_with_logits_v2(\n",
        "    logits=logits, labels=y))\n",
        "\n",
        "train_op = tf.train.AdamOptimizer(learning_rate=0.01).minimize(loss_op)"
      ],
      "execution_count": 0,
      "outputs": []
    },
    {
      "cell_type": "code",
      "metadata": {
        "id": "Iw4s1SRewm_L",
        "colab_type": "code",
        "outputId": "c4f1539a-830d-41d5-b635-7351ee6f9375",
        "colab": {
          "base_uri": "https://localhost:8080/",
          "height": 1000
        }
      },
      "source": [
        "import matplotlib.pyplot as plt\n",
        "\n",
        "\n",
        "# 초기화\n",
        "init = tf.global_variables_initializer()\n",
        "\n",
        "# 하이퍼 파라미터\n",
        "epoch_cnt = 100 #학습횟수\n",
        "batch_size = 1000 #학습률\n",
        "iteration = len(x_train) // batch_size\n",
        "\n",
        "#graph x,y\n",
        "graph_x = list(range(epoch_cnt))\n",
        "graph_y = []\n",
        "\n",
        "start = time.time()\n",
        "# 훈련 시작\n",
        "with tf.Session() as sess:\n",
        "    sess.run(init)\n",
        "    for epoch in range(epoch_cnt):\n",
        "        avg_loss = 0.\n",
        "        start = 0; end = batch_size\n",
        "        \n",
        "        for i in range(iteration):\n",
        "            _, loss = sess.run([train_op, loss_op], \n",
        "                               feed_dict={x: x_train[start: end], y: y_train[start: end]})\n",
        "            start += batch_size; end += batch_size\n",
        "            # 평균 loss 계산\n",
        "            avg_loss += loss / iteration\n",
        "            \n",
        "        # 모델 validate\n",
        "        preds = tf.nn.softmax(logits)  #logit값에 활성화함수 softmax를 적용\n",
        "        correct_prediction = tf.equal(tf.argmax(preds, 1), tf.argmax(y, 1))\n",
        "        # 정확도 계산\n",
        "        accuracy = tf.reduce_mean(tf.cast(correct_prediction, \"float\"))\n",
        "        cur_val_acc = accuracy.eval({x: x_val, y: y_val})\n",
        "        graph_y.append(cur_val_acc)\n",
        "        #\n",
        "        preds = tf.nn.softmax(logits)  #logit값에 활성화함수 softmax를 적용\n",
        "        correct_prediction = tf.equal(tf.argmax(preds, 1), tf.argmax(y, 1))\n",
        "        accuracy = tf.reduce_mean(tf.cast(correct_prediction, \"float\"))\n",
        "        train_accuracy = accuracy.eval({x: x_train, y: y_train})\n",
        "        #\n",
        "        print(\"epoch: \"+str(epoch)+\", train accuracy: \"+ str(train_accuracy) +\", validation accuracy: \" \n",
        "              + str(cur_val_acc) +', loss: '+str(avg_loss))\n",
        "    \n",
        "    # 모델 테스트\n",
        "    preds = tf.nn.softmax(logits)  # Apply softmax to logits\n",
        "    correct_prediction = tf.equal(tf.argmax(preds, 1), tf.argmax(y, 1))\n",
        "    # 정확도 계산\n",
        "    accuracy = tf.reduce_mean(tf.cast(correct_prediction, \"float\"))\n",
        "    print(\"[Test Accuracy] :\", accuracy.eval({x: x_test, y: y_test}))\n",
        "\n",
        "    # 테스트를 위해 임의의 MNIST 이미지를 넣어줍니다\n",
        "    keep_prob = tf.placeholder(tf.float32)\n",
        "    prediction=tf.argmax(preds,1)\n",
        "    predint = prediction.eval(feed_dict={x: [x_test[1]],keep_prob: 1.0}, session=sess)\n",
        "    # 예측값을 출력\n",
        "    print(\"[Predicted Number] :\", predint[0])\n",
        "\n",
        "    # 예측값이 맞는지 비교하기 위해 해당 MNIST 이미지를 보여줍니다\n",
        "    plt.subplot(1, 2, 1)\n",
        "    plt.imshow(dddd[1], cmap=plt.cm.binary)\n",
        "\n",
        "    # validation accuracy의 지표를 그래프로 나타냅니다\n",
        "    plt.subplot(1, 2, 2)\n",
        "    plt.plot(graph_x, graph_y)\n",
        "    plt.show()\n"
      ],
      "execution_count": 33,
      "outputs": [
        {
          "output_type": "stream",
          "text": [
            "epoch: 0, train accuracy: 0.10702, validation accuracy: 0.1111, loss: 12580.708217773436\n",
            "epoch: 1, train accuracy: 0.13792, validation accuracy: 0.1359, loss: 300.71272068023694\n",
            "epoch: 2, train accuracy: 0.14636, validation accuracy: 0.1469, loss: 2.2257541847229\n",
            "epoch: 3, train accuracy: 0.19704, validation accuracy: 0.21, loss: 2.18338020324707\n",
            "epoch: 4, train accuracy: 0.22654, validation accuracy: 0.2335, loss: 2.1216078615188594\n",
            "epoch: 5, train accuracy: 0.25292, validation accuracy: 0.2666, loss: 2.0508502388000487\n",
            "epoch: 6, train accuracy: 0.28436, validation accuracy: 0.2963, loss: 1.994020414352417\n",
            "epoch: 7, train accuracy: 0.30868, validation accuracy: 0.3266, loss: 1.929584820270538\n",
            "epoch: 8, train accuracy: 0.3323, validation accuracy: 0.3358, loss: 1.865729656219483\n",
            "epoch: 9, train accuracy: 0.34752, validation accuracy: 0.3562, loss: 1.8163259100914002\n",
            "epoch: 10, train accuracy: 0.36494, validation accuracy: 0.3703, loss: 1.775267539024353\n",
            "epoch: 11, train accuracy: 0.37932, validation accuracy: 0.3867, loss: 1.7297105646133428\n",
            "epoch: 12, train accuracy: 0.38868, validation accuracy: 0.3956, loss: 1.7015641307830816\n",
            "epoch: 13, train accuracy: 0.40688, validation accuracy: 0.4148, loss: 1.666195471286774\n",
            "epoch: 14, train accuracy: 0.42466, validation accuracy: 0.4259, loss: 1.6250626420974732\n",
            "epoch: 15, train accuracy: 0.43682, validation accuracy: 0.4444, loss: 1.5924167394638058\n",
            "epoch: 16, train accuracy: 0.45066, validation accuracy: 0.4607, loss: 1.5659387612342834\n",
            "epoch: 17, train accuracy: 0.46662, validation accuracy: 0.4748, loss: 1.522046408653259\n",
            "epoch: 18, train accuracy: 0.48566, validation accuracy: 0.4941, loss: 1.4859288048744206\n",
            "epoch: 19, train accuracy: 0.508, validation accuracy: 0.5128, loss: 1.4374298334121702\n",
            "epoch: 20, train accuracy: 0.52244, validation accuracy: 0.53, loss: 1.398018107414246\n",
            "epoch: 21, train accuracy: 0.53534, validation accuracy: 0.5442, loss: 1.3612665367126464\n",
            "epoch: 22, train accuracy: 0.5524, validation accuracy: 0.5581, loss: 1.3268508672714232\n",
            "epoch: 23, train accuracy: 0.56616, validation accuracy: 0.5792, loss: 1.2839815831184387\n",
            "epoch: 24, train accuracy: 0.58432, validation accuracy: 0.5887, loss: 1.2686617636680606\n",
            "epoch: 25, train accuracy: 0.60718, validation accuracy: 0.6123, loss: 1.2249967312812808\n",
            "epoch: 26, train accuracy: 0.62548, validation accuracy: 0.625, loss: 1.1822584748268123\n",
            "epoch: 27, train accuracy: 0.642, validation accuracy: 0.6554, loss: 1.1450581645965574\n",
            "epoch: 28, train accuracy: 0.65106, validation accuracy: 0.6571, loss: 1.109157773256302\n",
            "epoch: 29, train accuracy: 0.6611, validation accuracy: 0.6694, loss: 1.0883462643623347\n",
            "epoch: 30, train accuracy: 0.67002, validation accuracy: 0.6772, loss: 1.067455161809921\n",
            "epoch: 31, train accuracy: 0.6786, validation accuracy: 0.6821, loss: 1.0365989792346957\n",
            "epoch: 32, train accuracy: 0.6847, validation accuracy: 0.692, loss: 1.0195527946949006\n",
            "epoch: 33, train accuracy: 0.6897, validation accuracy: 0.6978, loss: 0.9996892714500427\n",
            "epoch: 34, train accuracy: 0.69998, validation accuracy: 0.7039, loss: 0.9824671483039857\n",
            "epoch: 35, train accuracy: 0.70372, validation accuracy: 0.713, loss: 0.9594984829425813\n",
            "epoch: 36, train accuracy: 0.7113, validation accuracy: 0.7205, loss: 0.9430731725692748\n",
            "epoch: 37, train accuracy: 0.7166, validation accuracy: 0.724, loss: 0.920207804441452\n",
            "epoch: 38, train accuracy: 0.73048, validation accuracy: 0.7265, loss: 0.9048819553852082\n",
            "epoch: 39, train accuracy: 0.73148, validation accuracy: 0.7417, loss: 0.8801449501514436\n",
            "epoch: 40, train accuracy: 0.73918, validation accuracy: 0.7421, loss: 0.8610600244998932\n",
            "epoch: 41, train accuracy: 0.74438, validation accuracy: 0.7475, loss: 0.8530581390857696\n",
            "epoch: 42, train accuracy: 0.7488, validation accuracy: 0.7524, loss: 0.8297669064998628\n",
            "epoch: 43, train accuracy: 0.75372, validation accuracy: 0.7524, loss: 0.8161954331398009\n",
            "epoch: 44, train accuracy: 0.7559, validation accuracy: 0.7615, loss: 0.809261964559555\n",
            "epoch: 45, train accuracy: 0.76188, validation accuracy: 0.7605, loss: 0.7940444457530977\n",
            "epoch: 46, train accuracy: 0.76314, validation accuracy: 0.771, loss: 0.7803566598892213\n",
            "epoch: 47, train accuracy: 0.76794, validation accuracy: 0.7759, loss: 0.7725873816013337\n",
            "epoch: 48, train accuracy: 0.77456, validation accuracy: 0.7767, loss: 0.7511701703071595\n",
            "epoch: 49, train accuracy: 0.77764, validation accuracy: 0.7818, loss: 0.7461165988445283\n",
            "epoch: 50, train accuracy: 0.78274, validation accuracy: 0.784, loss: 0.736078554391861\n",
            "epoch: 51, train accuracy: 0.78824, validation accuracy: 0.7888, loss: 0.722062885761261\n",
            "epoch: 52, train accuracy: 0.79076, validation accuracy: 0.7954, loss: 0.7099949955940245\n",
            "epoch: 53, train accuracy: 0.79526, validation accuracy: 0.799, loss: 0.7015579032897947\n",
            "epoch: 54, train accuracy: 0.79922, validation accuracy: 0.8031, loss: 0.686074595451355\n",
            "epoch: 55, train accuracy: 0.8077, validation accuracy: 0.8079, loss: 0.6798582541942597\n",
            "epoch: 56, train accuracy: 0.80838, validation accuracy: 0.8112, loss: 0.6685765051841736\n",
            "epoch: 57, train accuracy: 0.81198, validation accuracy: 0.8185, loss: 0.6629102587699893\n",
            "epoch: 58, train accuracy: 0.81602, validation accuracy: 0.8191, loss: 0.6464332914352419\n",
            "epoch: 59, train accuracy: 0.82112, validation accuracy: 0.817, loss: 0.6381878751516344\n",
            "epoch: 60, train accuracy: 0.81924, validation accuracy: 0.8258, loss: 0.6203265857696534\n",
            "epoch: 61, train accuracy: 0.82426, validation accuracy: 0.8269, loss: 0.6197615325450897\n",
            "epoch: 62, train accuracy: 0.82754, validation accuracy: 0.8291, loss: 0.6120079630613328\n",
            "epoch: 63, train accuracy: 0.8292, validation accuracy: 0.8268, loss: 0.6134855633974075\n",
            "epoch: 64, train accuracy: 0.83202, validation accuracy: 0.8319, loss: 0.604893797636032\n",
            "epoch: 65, train accuracy: 0.83126, validation accuracy: 0.8337, loss: 0.5884949278831481\n",
            "epoch: 66, train accuracy: 0.83316, validation accuracy: 0.8345, loss: 0.5794074445962908\n",
            "epoch: 67, train accuracy: 0.83462, validation accuracy: 0.8374, loss: 0.5842141574621201\n",
            "epoch: 68, train accuracy: 0.83766, validation accuracy: 0.8422, loss: 0.5795315659046175\n",
            "epoch: 69, train accuracy: 0.84072, validation accuracy: 0.8386, loss: 0.5638082259893418\n",
            "epoch: 70, train accuracy: 0.84202, validation accuracy: 0.8387, loss: 0.5642763125896456\n",
            "epoch: 71, train accuracy: 0.84588, validation accuracy: 0.8447, loss: 0.5597514122724533\n",
            "epoch: 72, train accuracy: 0.84612, validation accuracy: 0.8469, loss: 0.5491786891222\n",
            "epoch: 73, train accuracy: 0.84744, validation accuracy: 0.8499, loss: 0.5550544804334643\n",
            "epoch: 74, train accuracy: 0.84858, validation accuracy: 0.8498, loss: 0.5427270203828812\n",
            "epoch: 75, train accuracy: 0.84884, validation accuracy: 0.8444, loss: 0.5344736814498903\n",
            "epoch: 76, train accuracy: 0.85198, validation accuracy: 0.8482, loss: 0.5333670830726622\n",
            "epoch: 77, train accuracy: 0.85304, validation accuracy: 0.8482, loss: 0.5271543091535567\n",
            "epoch: 78, train accuracy: 0.85128, validation accuracy: 0.8506, loss: 0.5248311764001846\n",
            "epoch: 79, train accuracy: 0.85932, validation accuracy: 0.8524, loss: 0.5167924576997759\n",
            "epoch: 80, train accuracy: 0.8566, validation accuracy: 0.8516, loss: 0.5150058841705323\n",
            "epoch: 81, train accuracy: 0.85984, validation accuracy: 0.8603, loss: 0.5069359499216078\n",
            "epoch: 82, train accuracy: 0.85962, validation accuracy: 0.858, loss: 0.5044895809888841\n",
            "epoch: 83, train accuracy: 0.85974, validation accuracy: 0.8567, loss: 0.499307717680931\n",
            "epoch: 84, train accuracy: 0.86618, validation accuracy: 0.8622, loss: 0.4893391036987304\n",
            "epoch: 85, train accuracy: 0.86484, validation accuracy: 0.8595, loss: 0.4876508605480193\n",
            "epoch: 86, train accuracy: 0.86796, validation accuracy: 0.8592, loss: 0.48022462010383615\n",
            "epoch: 87, train accuracy: 0.86748, validation accuracy: 0.8682, loss: 0.4781349408626558\n",
            "epoch: 88, train accuracy: 0.86974, validation accuracy: 0.8638, loss: 0.47354963719844817\n",
            "epoch: 89, train accuracy: 0.87202, validation accuracy: 0.8636, loss: 0.4691054874658584\n",
            "epoch: 90, train accuracy: 0.8745, validation accuracy: 0.8647, loss: 0.46252931594848634\n",
            "epoch: 91, train accuracy: 0.87726, validation accuracy: 0.8728, loss: 0.455918720960617\n",
            "epoch: 92, train accuracy: 0.8792, validation accuracy: 0.87, loss: 0.4460057252645491\n",
            "epoch: 93, train accuracy: 0.87822, validation accuracy: 0.8704, loss: 0.44182293772697456\n",
            "epoch: 94, train accuracy: 0.8804, validation accuracy: 0.8737, loss: 0.43897203743457797\n",
            "epoch: 95, train accuracy: 0.88204, validation accuracy: 0.8709, loss: 0.436237397789955\n",
            "epoch: 96, train accuracy: 0.88482, validation accuracy: 0.8752, loss: 0.43236653208732595\n",
            "epoch: 97, train accuracy: 0.88372, validation accuracy: 0.8752, loss: 0.42652091562747946\n",
            "epoch: 98, train accuracy: 0.89058, validation accuracy: 0.8771, loss: 0.4150612306594849\n",
            "epoch: 99, train accuracy: 0.8915, validation accuracy: 0.8795, loss: 0.41984081864357004\n",
            "[Test Accuracy] : 0.8746\n",
            "[Predicted Number] : 2\n"
          ],
          "name": "stdout"
        },
        {
          "output_type": "display_data",
          "data": {
            "image/png": "[encoded data removed]",
            "text/plain": [
              "<Figure size 432x288 with 2 Axes>"
            ]
          },
          "metadata": {
            "tags": [],
            "needs_background": "light"
          }
        },
        {
          "output_type": "stream",
          "text": [
            "time: 3min 36s\n"
          ],
          "name": "stdout"
        }
      ]
    },
    {
      "cell_type": "code",
      "metadata": {
        "id": "vMdfbLrKDu2g",
        "colab_type": "code",
        "outputId": "eef4cff9-7310-41da-e1f6-204073e9e0d3",
        "colab": {
          "base_uri": "https://localhost:8080/",
          "height": 52
        }
      },
      "source": [
        "import tensorflow\n",
        "print(tensorflow.__version__)"
      ],
      "execution_count": 18,
      "outputs": [
        {
          "output_type": "stream",
          "text": [
            "1.13.1\n",
            "time: 1.1 ms\n"
          ],
          "name": "stdout"
        }
      ]
    }
  ]
}