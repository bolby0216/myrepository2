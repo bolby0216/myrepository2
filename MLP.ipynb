{
  "nbformat": 4,
  "nbformat_minor": 0,
  "metadata": {
    "colab": {
      "name": "MLP.ipynb",
      "provenance": [],
      "collapsed_sections": [],
      "authorship_tag": "ABX9TyMI79RQ2vxQ4uRomgBHNeZS",
      "include_colab_link": true
    },
    "kernelspec": {
      "name": "python3",
      "display_name": "Python 3"
    },
    "accelerator": "GPU"
  },
  "cells": [
    {
      "cell_type": "markdown",
      "metadata": {
        "id": "view-in-github",
        "colab_type": "text"
      },
      "source": [
        "<a href=\"https://colab.research.google.com/github/bolby0216/myrepository2/blob/master/MLP.ipynb\" target=\"_parent\"><img src=\"https://colab.research.google.com/assets/colab-badge.svg\" alt=\"Open In Colab\"/></a>"
      ]
    },
    {
      "cell_type": "code",
      "metadata": {
        "id": "5k-BR9ppu42o",
        "colab_type": "code",
        "colab": {}
      },
      "source": [
        "!pip install tensorflow-gpu==1.13.1"
      ],
      "execution_count": 0,
      "outputs": []
    },
    {
      "cell_type": "code",
      "metadata": {
        "id": "xFjaqk6hvF2j",
        "colab_type": "code",
        "colab": {}
      },
      "source": [
        "!apt-get --purge remove \"*cublas*\" \"cuda*\"\n",
        "!reboot\n",
        "!wget https://developer.download.nvidia.com/compute/cuda/repos/ubuntu1804/x86_64/cuda-repo-ubuntu1804_10.0.130-1_amd64.deb\n",
        "!dpkg -i cuda-repo-ubuntu1804_10.0.130-1_amd64.deb\n",
        "!sudo apt-key adv --fetch-keys https://developer.download.nvidia.com/compute/cuda/repos/ubuntu1804/x86_64/7fa2af80.pub\n",
        "!apt install cuda-10-0\n",
        "!reboot"
      ],
      "execution_count": 0,
      "outputs": []
    },
    {
      "cell_type": "code",
      "metadata": {
        "id": "zF4GC6rwjfS1",
        "colab_type": "code",
        "outputId": "fe03051e-4f25-421d-8bd2-154bb5b12a77",
        "colab": {
          "base_uri": "https://localhost:8080/",
          "height": 193
        }
      },
      "source": [
        "import tensorflow as tf\n",
        "import numpy as np\n",
        "from IPython.display import Image\n",
        "\n",
        "(x_train, y_train), (x_test, y_test) = tf.keras.datasets.mnist.load_data()\n",
        "\n",
        "print(x_train.shape)\n",
        "print(x_test.shape)\n",
        "\n",
        "dddd = x_test\n",
        "\n",
        "x_val  = x_train[50000:60000]\n",
        "x_train = x_train[0:50000]\n",
        "y_val  = y_train[50000:60000]\n",
        "y_train = y_train[0:50000]\n",
        "\n",
        "print(\"train data has \" + str(x_train.shape[0]) + \" samples\")\n",
        "print(\"every train data is \" + str(x_train.shape[1]) \n",
        "      + \" * \" + str(x_train.shape[2]) + \" image\")\n",
        "\n",
        "print(\"validation data has \" + str(x_val.shape[0]) + \" samples\")\n",
        "print(\"every train data is \" + str(x_val.shape[1]) \n",
        "      + \" * \" + str(x_train.shape[2]) + \" image\")\n",
        "\n",
        "print(\"test data has \" + str(x_test.shape[0]) + \" samples\")\n",
        "print(\"every test data is \" + str(x_test.shape[1]) \n",
        "      + \" * \" + str(x_test.shape[2]) + \" image\")\n",
        "\n",
        "x_train = x_train.reshape(50000, 784)\n",
        "x_val = x_val.reshape(10000, 784)\n",
        "x_test = x_test.reshape(10000, 784)\n",
        "\n",
        "print(x_train.shape)\n",
        "print(x_test.shape)\n",
        "\n",
        "\n",
        "x_train = x_train.astype('float32')\n",
        "x_val = x_val.astype('float32')\n",
        "x_test = x_test.astype('float32')\n",
        "\n",
        "gray_scale = 255\n",
        "x_train /= gray_scale\n",
        "x_val /= gray_scale\n",
        "x_test /= gray_scale\n",
        "\n",
        "num_classes = 10\n",
        "y_train = tf.keras.utils.to_categorical(y_train, num_classes)\n",
        "y_val = tf.keras.utils.to_categorical(y_val, num_classes)\n",
        "y_test = tf.keras.utils.to_categorical(y_test, num_classes)"
      ],
      "execution_count": 0,
      "outputs": [
        {
          "output_type": "stream",
          "text": [
            "(60000, 28, 28)\n",
            "(10000, 28, 28)\n",
            "train data has 50000 samples\n",
            "every train data is 28 * 28 image\n",
            "validation data has 10000 samples\n",
            "every train data is 28 * 28 image\n",
            "test data has 10000 samples\n",
            "every test data is 28 * 28 image\n",
            "(50000, 784)\n",
            "(10000, 784)\n"
          ],
          "name": "stdout"
        }
      ]
    },
    {
      "cell_type": "code",
      "metadata": {
        "id": "wxjpxh6kuzJl",
        "colab_type": "code",
        "colab": {}
      },
      "source": [
        "x = tf.placeholder(tf.float32, [None, 784])\n",
        "y = tf.placeholder(tf.float32, [None, 10])"
      ],
      "execution_count": 0,
      "outputs": []
    },
    {
      "cell_type": "code",
      "metadata": {
        "id": "C5lP-lQ7wV3g",
        "colab_type": "code",
        "colab": {}
      },
      "source": [
        "def mlp(x):\n",
        "    # hidden layer1\n",
        "    w1 = tf.Variable(tf.random_uniform([784,256]))\n",
        "    b1 = tf.Variable(tf.zeros([256]))\n",
        "    h1 = tf.nn.relu(tf.matmul(x, w1) + b1)\n",
        "    # hidden layer2\n",
        "    w2 = tf.Variable(tf.random_uniform([256,128]))\n",
        "    b2 = tf.Variable(tf.zeros([128]))\n",
        "    h2 = tf.nn.relu(tf.matmul(h1, w2) + b2)\n",
        "    # output layer\n",
        "    w3 = tf.Variable(tf.random_uniform([128,10]))\n",
        "    b3 = tf.Variable(tf.zeros([10]))\n",
        "    logits= tf.matmul(h2, w3) + b3\n",
        "    \n",
        "    return logits"
      ],
      "execution_count": 0,
      "outputs": []
    },
    {
      "cell_type": "code",
      "metadata": {
        "id": "kQE38nlJwXcA",
        "colab_type": "code",
        "outputId": "27541160-5b71-4f16-99ef-044d3d3bddcb",
        "colab": {
          "base_uri": "https://localhost:8080/",
          "height": 90
        }
      },
      "source": [
        "\n",
        "logits = mlp(x)"
      ],
      "execution_count": 0,
      "outputs": [
        {
          "output_type": "stream",
          "text": [
            "WARNING:tensorflow:From /usr/local/lib/python3.6/dist-packages/tensorflow/python/framework/op_def_library.py:263: colocate_with (from tensorflow.python.framework.ops) is deprecated and will be removed in a future version.\n",
            "Instructions for updating:\n",
            "Colocations handled automatically by placer.\n"
          ],
          "name": "stdout"
        }
      ]
    },
    {
      "cell_type": "code",
      "metadata": {
        "id": "mIvyxspjwbqh",
        "colab_type": "code",
        "colab": {}
      },
      "source": [
        "loss_op = tf.reduce_mean(tf.nn.softmax_cross_entropy_with_logits_v2(\n",
        "    logits=logits, labels=y))"
      ],
      "execution_count": 0,
      "outputs": []
    },
    {
      "cell_type": "code",
      "metadata": {
        "id": "kKpQqHiLwlA7",
        "colab_type": "code",
        "colab": {}
      },
      "source": [
        "train_op = tf.train.AdamOptimizer(learning_rate=0.01).minimize(loss_op)"
      ],
      "execution_count": 0,
      "outputs": []
    },
    {
      "cell_type": "code",
      "metadata": {
        "id": "Iw4s1SRewm_L",
        "colab_type": "code",
        "outputId": "8f719e53-2393-4212-e4d6-cda5c07b7dcd",
        "colab": {
          "base_uri": "https://localhost:8080/",
          "height": 828
        }
      },
      "source": [
        "import matplotlib.pyplot as plt\n",
        "\n",
        "\n",
        "# initialize\n",
        "init = tf.global_variables_initializer()\n",
        "\n",
        "# train hyperparameters\n",
        "epoch_cnt = 30\n",
        "batch_size = 1000\n",
        "iteration = len(x_train) // batch_size\n",
        "graph_x = list(range(30))\n",
        "graph_y = []\n",
        "\n",
        "# Start training\n",
        "with tf.Session() as sess:\n",
        "    # Run the initializer\n",
        "    sess.run(init)\n",
        "    for epoch in range(epoch_cnt):\n",
        "        avg_loss = 0.\n",
        "        start = 0; end = batch_size\n",
        "        \n",
        "        for i in range(iteration):\n",
        "            _, loss = sess.run([train_op, loss_op], \n",
        "                               feed_dict={x: x_train[start: end], y: y_train[start: end]})\n",
        "            start += batch_size; end += batch_size\n",
        "            # Compute average loss\n",
        "            avg_loss += loss / iteration\n",
        "            \n",
        "        # Validate model\n",
        "        preds = tf.nn.softmax(logits)  # Apply softmax to logits\n",
        "        correct_prediction = tf.equal(tf.argmax(preds, 1), tf.argmax(y, 1))\n",
        "        # Calculate accuracy\n",
        "        accuracy = tf.reduce_mean(tf.cast(correct_prediction, \"float\"))\n",
        "        cur_val_acc = accuracy.eval({x: x_val, y: y_val})\n",
        "        graph_y.append(cur_val_acc)\n",
        "        print(\"epoch: \"+str(epoch)+\", validation accuracy: \" \n",
        "              + str(cur_val_acc) +', loss: '+str(avg_loss))\n",
        "    \n",
        "    # Test model\n",
        "    preds = tf.nn.softmax(logits)  # Apply softmax to logits\n",
        "    correct_prediction = tf.equal(tf.argmax(preds, 1), tf.argmax(y, 1))\n",
        "    # Calculate accuracy\n",
        "    accuracy = tf.reduce_mean(tf.cast(correct_prediction, \"float\"))\n",
        "    print(\"[Test Accuracy] :\", accuracy.eval({x: x_test, y: y_test}))\n",
        "\n",
        "    keep_prob = tf.placeholder(tf.float32)\n",
        "    prediction=tf.argmax(preds,1)\n",
        "    predint = prediction.eval(feed_dict={x: [x_test[1]],keep_prob: 1.0}, session=sess)\n",
        "    print(predint[0])\n",
        "\n",
        "    plt.subplot(1, 2, 1)\n",
        "    plt.imshow(dddd[1], cmap=plt.cm.binary)\n",
        "\n",
        "    plt.subplot(1, 2, 2)\n",
        "    plt.plot(graph_x, graph_y)\n",
        "    plt.show()\n"
      ],
      "execution_count": 43,
      "outputs": [
        {
          "output_type": "stream",
          "text": [
            "epoch: 0, validation accuracy: 0.099, loss: 8802.505520019533\n",
            "epoch: 1, validation accuracy: 0.8196, loss: 284.1685752105712\n",
            "epoch: 2, validation accuracy: 0.8714, loss: 14.14816474914551\n",
            "epoch: 3, validation accuracy: 0.8927, loss: 9.154122104644774\n",
            "epoch: 4, validation accuracy: 0.8992, loss: 7.078823680877686\n",
            "epoch: 5, validation accuracy: 0.9017, loss: 5.930464911460875\n",
            "epoch: 6, validation accuracy: 0.9002, loss: 4.904062485694888\n",
            "epoch: 7, validation accuracy: 0.895, loss: 4.413990807533265\n",
            "epoch: 8, validation accuracy: 0.8981, loss: 4.6106773519516\n",
            "epoch: 9, validation accuracy: 0.8962, loss: 4.3759166431427\n",
            "epoch: 10, validation accuracy: 0.9027, loss: 3.8812006473541274\n",
            "epoch: 11, validation accuracy: 0.8804, loss: 4.292806181907654\n",
            "epoch: 12, validation accuracy: 0.8862, loss: 4.531862931251527\n",
            "epoch: 13, validation accuracy: 0.9018, loss: 4.3614066314697295\n",
            "epoch: 14, validation accuracy: 0.8911, loss: 3.6560275864601137\n",
            "epoch: 15, validation accuracy: 0.8447, loss: 3.907644524574278\n",
            "epoch: 16, validation accuracy: 0.9004, loss: 5.109759540557863\n",
            "epoch: 17, validation accuracy: 0.9083, loss: 3.212184920310975\n",
            "epoch: 18, validation accuracy: 0.8943, loss: 2.9791152548789976\n",
            "epoch: 19, validation accuracy: 0.9152, loss: 2.5562519478797916\n",
            "epoch: 20, validation accuracy: 0.8869, loss: 3.471672260761261\n",
            "epoch: 21, validation accuracy: 0.9103, loss: 3.1061626076698317\n",
            "epoch: 22, validation accuracy: 0.9093, loss: 2.1816111278533934\n",
            "epoch: 23, validation accuracy: 0.9172, loss: 2.075336270332336\n",
            "epoch: 24, validation accuracy: 0.915, loss: 2.0622381997108463\n",
            "epoch: 25, validation accuracy: 0.8769, loss: 2.4239458417892448\n",
            "epoch: 26, validation accuracy: 0.9086, loss: 2.772004494667054\n",
            "epoch: 27, validation accuracy: 0.91, loss: 2.2491677212715153\n",
            "epoch: 28, validation accuracy: 0.8937, loss: 1.9148268628120424\n",
            "epoch: 29, validation accuracy: 0.9177, loss: 1.604971091747284\n",
            "[Test Accuracy] : 0.9137\n",
            "2\n"
          ],
          "name": "stdout"
        },
        {
          "output_type": "display_data",
          "data": {
            "image/png": "[encoded data removed]",
            "text/plain": [
              "<Figure size 432x288 with 2 Axes>"
            ]
          },
          "metadata": {
            "tags": [],
            "needs_background": "light"
          }
        }
      ]
    },
    {
      "cell_type": "code",
      "metadata": {
        "id": "vMdfbLrKDu2g",
        "colab_type": "code",
        "colab": {
          "base_uri": "https://localhost:8080/",
          "height": 34
        },
        "outputId": "a86fb08e-42ad-4ef7-ad00-0e662b4c59f8"
      },
      "source": [
        "import tensorflow\n",
        "print(tensorflow.__version__)"
      ],
      "execution_count": 32,
      "outputs": [
        {
          "output_type": "stream",
          "text": [
            "1.13.1\n"
          ],
          "name": "stdout"
        }
      ]
    }
  ]
}